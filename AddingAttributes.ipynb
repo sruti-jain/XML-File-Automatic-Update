{
 "cells": [
  {
   "cell_type": "code",
   "execution_count": 25,
   "metadata": {},
   "outputs": [],
   "source": [
    "# Importing necessary libraries\n",
    "import os\n",
    "import xml.etree.cElementTree as ET"
   ]
  },
  {
   "cell_type": "code",
   "execution_count": 26,
   "metadata": {},
   "outputs": [],
   "source": [
    "# fetching the working directory and the xml files in the folder\n",
    "cwd = os.getcwd()\n",
    "cwd = cwd + '\\\\problem'\n",
    "onlyfiles = [f for f in os.listdir(cwd) if os.path.isfile(os.path.join(cwd, f))]"
   ]
  },
  {
   "cell_type": "code",
   "execution_count": 27,
   "metadata": {
    "scrolled": true
   },
   "outputs": [],
   "source": [
    "if not os.path.exists('Modified'):\n",
    "    os.makedirs('Modified')\n",
    "\n",
    "for filenames in onlyfiles:\n",
    "    path = cwd + '\\\\' + filenames\n",
    "    tree = ET.parse(path)\n",
    "    root = tree.getroot()\n",
    "    for problem in root.iter('problem'):\n",
    "        problem.set('objectives', ' ')\n",
    "    tree.write(os.getcwd() + '\\\\Modified\\\\' + filenames)"
   ]
  },
  {
   "cell_type": "code",
   "execution_count": null,
   "metadata": {},
   "outputs": [],
   "source": []
  },
  {
   "cell_type": "code",
   "execution_count": null,
   "metadata": {},
   "outputs": [],
   "source": []
  }
 ],
 "metadata": {
  "kernelspec": {
   "display_name": "Python 3",
   "language": "python",
   "name": "python3"
  },
  "language_info": {
   "codemirror_mode": {
    "name": "ipython",
    "version": 3
   },
   "file_extension": ".py",
   "mimetype": "text/x-python",
   "name": "python",
   "nbconvert_exporter": "python",
   "pygments_lexer": "ipython3",
   "version": "3.6.4"
  }
 },
 "nbformat": 4,
 "nbformat_minor": 2
}
